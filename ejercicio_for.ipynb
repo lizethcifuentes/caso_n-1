{
  "nbformat": 4,
  "nbformat_minor": 0,
  "metadata": {
    "colab": {
      "provenance": [],
      "authorship_tag": "ABX9TyNGtnY8DYe1fOs9yTfIwWHA",
      "include_colab_link": true
    },
    "kernelspec": {
      "name": "python3",
      "display_name": "Python 3"
    },
    "language_info": {
      "name": "python"
    }
  },
  "cells": [
    {
      "cell_type": "markdown",
      "metadata": {
        "id": "view-in-github",
        "colab_type": "text"
      },
      "source": [
        "<a href=\"https://colab.research.google.com/github/lizethcifuentes/caso_n-1/blob/main/ejercicio_for.ipynb\" target=\"_parent\"><img src=\"https://colab.research.google.com/assets/colab-badge.svg\" alt=\"Open In Colab\"/></a>"
      ]
    },
    {
      "cell_type": "markdown",
      "source": [
        "#instrucion repetitiva for\n"
      ],
      "metadata": {
        "id": "xWTMmrRXrLvW"
      }
    },
    {
      "cell_type": "code",
      "source": [
        "#ejercicio1:mostrar los numeros del 1 al 10,sin usar instrucciones repetitivas\n",
        "print(1)\n",
        "print(2)\n",
        "print(3)\n",
        "print(4)\n",
        "print(5)\n",
        "print(6)\n",
        "print(7)\n",
        "print(8)\n",
        "print(9)\n",
        "print(10)\n"
      ],
      "metadata": {
        "colab": {
          "base_uri": "https://localhost:8080/"
        },
        "id": "lFokIBe1r1nD",
        "outputId": "6116a57c-181d-4b93-a6b2-1471ebf56810"
      },
      "execution_count": 1,
      "outputs": [
        {
          "output_type": "stream",
          "name": "stdout",
          "text": [
            "1\n",
            "2\n",
            "3\n",
            "4\n",
            "5\n",
            "6\n",
            "7\n",
            "8\n",
            "9\n",
            "10\n"
          ]
        }
      ]
    },
    {
      "cell_type": "code",
      "source": [
        "# ejercicio2:mostrar los nuimerosdel 1 al 10, usando la instruccion repetitiva while\n",
        "contador = 1\n",
        "print(contador)\n",
        "while contador <10:\n",
        "  #contador = contador + 1\n",
        "  contador += 1\n",
        "  print(contador)"
      ],
      "metadata": {
        "colab": {
          "base_uri": "https://localhost:8080/"
        },
        "id": "oPkrR3CItdde",
        "outputId": "e262156f-67a9-495b-969c-a05992a70fb2"
      },
      "execution_count": 2,
      "outputs": [
        {
          "output_type": "stream",
          "name": "stdout",
          "text": [
            "1\n",
            "2\n",
            "3\n",
            "4\n",
            "5\n",
            "6\n",
            "7\n",
            "8\n",
            "9\n",
            "10\n"
          ]
        }
      ]
    },
    {
      "cell_type": "code",
      "source": [
        "#ejercicio3:mostrar los numerosdel 1 al 10,usando la instruccion  for y una lista como iterable\n",
        "for i in [1,2,3,4,5,6,7,8,9,10]:\n",
        "   print(i)"
      ],
      "metadata": {
        "colab": {
          "base_uri": "https://localhost:8080/"
        },
        "id": "f4hbQVIdvPUR",
        "outputId": "d856ed39-5694-4662-a9f6-a35070b4f585"
      },
      "execution_count": 3,
      "outputs": [
        {
          "output_type": "stream",
          "name": "stdout",
          "text": [
            "1\n",
            "2\n",
            "3\n",
            "4\n",
            "5\n",
            "6\n",
            "7\n",
            "8\n",
            "9\n",
            "10\n"
          ]
        }
      ]
    },
    {
      "cell_type": "code",
      "source": [
        "#ejercicio4:mostrar los numeros del 1 al 10 usando la instruccion for y la funcion range\n",
        "for i in range(1,11):\n",
        "  print(i)"
      ],
      "metadata": {
        "colab": {
          "base_uri": "https://localhost:8080/"
        },
        "id": "3iJ3ZSZpwpSC",
        "outputId": "d803b101-3d56-4c1d-8825-9116eafb91b4"
      },
      "execution_count": 6,
      "outputs": [
        {
          "output_type": "stream",
          "name": "stdout",
          "text": [
            "1\n",
            "2\n",
            "3\n",
            "4\n",
            "5\n",
            "6\n",
            "7\n",
            "8\n",
            "9\n",
            "10\n"
          ]
        }
      ]
    },
    {
      "cell_type": "code",
      "source": [
        "#ejercicio5:mostrar 1 frase 10 veces usando la instruccion for y la lista\n",
        "lista = [1,2,3,4,5,6,7,8,9,10]\n",
        "for i in lista:\n",
        "  print(f\"{i} sistemas, la mejor!!*\")"
      ],
      "metadata": {
        "colab": {
          "base_uri": "https://localhost:8080/"
        },
        "id": "6Z2x4xPbxewL",
        "outputId": "5fd4173b-02c4-44b2-d988-490ae04a8514"
      },
      "execution_count": 9,
      "outputs": [
        {
          "output_type": "stream",
          "name": "stdout",
          "text": [
            "1 sistemas, la mejor!!*\n",
            "2 sistemas, la mejor!!*\n",
            "3 sistemas, la mejor!!*\n",
            "4 sistemas, la mejor!!*\n",
            "5 sistemas, la mejor!!*\n",
            "6 sistemas, la mejor!!*\n",
            "7 sistemas, la mejor!!*\n",
            "8 sistemas, la mejor!!*\n",
            "9 sistemas, la mejor!!*\n",
            "10 sistemas, la mejor!!*\n"
          ]
        }
      ]
    },
    {
      "cell_type": "code",
      "source": [
        "#ejercicio6:mostrar la silaba inicial de los dias de la semana, usando for y una lista con la silaba inicial de los dias de la semana ]\n",
        "dias_semana = [\"lu\" , \"ma\" , \"mi\" , \"ju\" , \"vi\" , \"sa\" , \"do\"]\n",
        "for in dias_semana:\n",
        "  print(i)"
      ],
      "metadata": {
        "colab": {
          "base_uri": "https://localhost:8080/",
          "height": 130
        },
        "id": "8shwH7KQykNl",
        "outputId": "6a10073e-f42f-4346-8135-cff3f1fb7a38"
      },
      "execution_count": 10,
      "outputs": [
        {
          "output_type": "error",
          "ename": "SyntaxError",
          "evalue": "ignored",
          "traceback": [
            "\u001b[0;36m  File \u001b[0;32m\"<ipython-input-10-8c2b81e9d95f>\"\u001b[0;36m, line \u001b[0;32m3\u001b[0m\n\u001b[0;31m    for in dias_semana:\u001b[0m\n\u001b[0m        ^\u001b[0m\n\u001b[0;31mSyntaxError\u001b[0m\u001b[0;31m:\u001b[0m invalid syntax\n"
          ]
        }
      ]
    },
    {
      "cell_type": "code",
      "source": [
        "#ejercicio8: ingresar su nombre mostrarlo letra a letra,usando for\n",
        "nombre = input(\"digite su nombre: \")\n",
        "for letra in nombre:\n",
        "  print(letra)"
      ],
      "metadata": {
        "colab": {
          "base_uri": "https://localhost:8080/"
        },
        "id": "3V0AGLid0EE0",
        "outputId": "6c80cefa-cbbd-4434-e451-c845c265ca83"
      },
      "execution_count": 11,
      "outputs": [
        {
          "output_type": "stream",
          "name": "stdout",
          "text": [
            "digite su nombre: lizeth\n",
            "l\n",
            "i\n",
            "z\n",
            "e\n",
            "t\n",
            "h\n"
          ]
        }
      ]
    },
    {
      "cell_type": "code",
      "source": [
        "#ejercicio7: mostrar una lista de distintos tipos de datos,usando for\n",
        "lista = [1,3,4,9,True, \"lizeth\" ,8, \"guanenta\"]\n",
        "for i in lista:\n",
        "  print(i)\n"
      ],
      "metadata": {
        "colab": {
          "base_uri": "https://localhost:8080/"
        },
        "id": "Bk6VCJqm0f9S",
        "outputId": "da8726d4-7acb-459e-dee4-360567a3e2e3"
      },
      "execution_count": 15,
      "outputs": [
        {
          "output_type": "stream",
          "name": "stdout",
          "text": [
            "1\n",
            "3\n",
            "4\n",
            "9\n",
            "True\n",
            "andres\n",
            "8\n",
            "guanenta\n"
          ]
        }
      ]
    },
    {
      "cell_type": "code",
      "source": [
        "#ejercicio9: ingresar su nombre y mostrarlo letra a letra,usando for,cambiando por asterisco * a la vocal e\n",
        "nombre = input(\"digite su nombre: \")\n",
        "for letra in nombre:\n",
        "  if letra == 'e':\n",
        "    print(\"*\")\n",
        "  else:\n",
        "     print(letra) "
      ],
      "metadata": {
        "colab": {
          "base_uri": "https://localhost:8080/"
        },
        "id": "thuEM5qj2E9_",
        "outputId": "19fe2374-5d97-456b-a2c3-35a0383bd153"
      },
      "execution_count": 16,
      "outputs": [
        {
          "output_type": "stream",
          "name": "stdout",
          "text": [
            "digite su nombre: lizeth\n",
            "l\n",
            "i\n",
            "z\n",
            "*\n",
            "t\n",
            "h\n"
          ]
        }
      ]
    },
    {
      "cell_type": "code",
      "source": [
        "#ejercicio10:ingresar su nombre y nostrarlo letra a letra en mayuscula usando for\n",
        "nombre = input(\"digite su nombre: \")\n",
        "for letra in nombre:\n",
        "  print(letra.upper())\n"
      ],
      "metadata": {
        "colab": {
          "base_uri": "https://localhost:8080/"
        },
        "id": "BqNUa7TN__uQ",
        "outputId": "b174557e-0237-492d-d293-781540d6beba"
      },
      "execution_count": 19,
      "outputs": [
        {
          "output_type": "stream",
          "name": "stdout",
          "text": [
            "digite su nombre: lizeth\n",
            "L\n",
            "I\n",
            "Z\n",
            "E\n",
            "T\n",
            "H\n"
          ]
        }
      ]
    },
    {
      "cell_type": "code",
      "source": [
        "#ejercicio11:\n",
        "print(\"numeros del 0 al 9\")\n",
        "for i in range(10):\n",
        "  print(i)\n",
        "\n",
        "  print(\"numeros del 1 aL 10\")\n",
        "  for i in range(1,11):\n",
        "    print(i)\n",
        "\n",
        "print(\"10 veces la frase\")\n",
        "for i in range(10):\n",
        "  print(\"sistemas el mejor\")\n",
        "\n",
        "print(\"10 veces la frase i = \")\n",
        "for i in range(10):\n",
        "  print(\"i = \" + str(i))\n",
        "\n",
        "  print(\"10 veces la frase i = \")\n",
        "  for i in range(10):\n",
        "    print(f\" i = {i}\")   \n",
        "\n",
        "print(\"rango del 7 al 18,incrementando en 4 en 4\")\n",
        "for i in range(7,19,4):\n",
        "  print(i)\n",
        "\n",
        "print(\"convierte en rango en lista  a, y la muestra\")\n",
        "a = list(range(1000))\n",
        "print(a)         "
      ],
      "metadata": {
        "id": "_H1Ft2_CA5Vt"
      },
      "execution_count": null,
      "outputs": []
    },
    {
      "cell_type": "markdown",
      "source": [],
      "metadata": {
        "id": "FNIrO5jiE49r"
      }
    },
    {
      "cell_type": "code",
      "source": [],
      "metadata": {
        "id": "m6z4XSucF4cZ"
      },
      "execution_count": null,
      "outputs": []
    }
  ]
}